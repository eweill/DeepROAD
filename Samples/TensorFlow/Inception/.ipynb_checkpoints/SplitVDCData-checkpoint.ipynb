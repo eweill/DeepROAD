{
 "cells": [
  {
   "cell_type": "markdown",
   "metadata": {},
   "source": [
    "# Import libraries"
   ]
  },
  {
   "cell_type": "raw",
   "metadata": {},
   "source": [
    "import os\n",
    "import shutil"
   ]
  },
  {
   "cell_type": "markdown",
   "metadata": {},
   "source": [
    "# Define directory structure"
   ]
  },
  {
   "cell_type": "raw",
   "metadata": {},
   "source": [
    "parent = '/data/VDC/VDC_Caf_Clean/'\n",
    "train  = '/data/VDC/split/train/'\n",
    "val    = '/data/VDC/split/val/'"
   ]
  },
  {
   "cell_type": "markdown",
   "metadata": {},
   "source": [
    "# Split each directory into training and validation"
   ]
  },
  {
   "cell_type": "raw",
   "metadata": {},
   "source": [
    "for dirs in os.listdir(parent):\n",
    "    for i, cat in enumerate(os.listdir(parent + dirs)):\n",
    "        if not os.path.exists(train + dirs):\n",
    "            os.makedirs(train + dirs)\n",
    "        if not os.path.exists(val + dirs):\n",
    "            os.makedirs(val + dirs)\n",
    "        if (i+1) % 4 == 0:\n",
    "            print ('Copying to validation directory')\n",
    "            shutil.copy(parent + '/' + cat, val + dirs + '/')\n",
    "        else:\n",
    "            print ('Copying to training directory')\n",
    "            shutil.copy(parent + '/' + cat, train + dirs + '/')"
   ]
  }
 ],
 "metadata": {
  "kernelspec": {
   "display_name": "Python 2",
   "language": "python",
   "name": "python2"
  },
  "language_info": {
   "codemirror_mode": {
    "name": "ipython",
    "version": 2
   },
   "file_extension": ".py",
   "mimetype": "text/x-python",
   "name": "python",
   "nbconvert_exporter": "python",
   "pygments_lexer": "ipython2",
   "version": "2.7.11"
  },
  "toc": {
   "toc_cell": false,
   "toc_number_sections": true,
   "toc_threshold": 6,
   "toc_window_display": false
  }
 },
 "nbformat": 4,
 "nbformat_minor": 0
}
