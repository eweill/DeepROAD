{
 "cells": [
  {
   "cell_type": "markdown",
   "metadata": {},
   "source": [
    "# Set CUDA and python paths"
   ]
  },
  {
   "cell_type": "code",
   "execution_count": null,
   "metadata": {
    "collapsed": true
   },
   "outputs": [],
   "source": [
    "import os\n",
    "os.environ[\"PYTHONPATH\"] = '/opt/SegNet/caffe-segnet/python'\n",
    "\n",
    "!sudo unlink /usr/local/cuda\n",
    "!sudo ln -s /usr/local/cuda-6.5 /usr/local/cuda"
   ]
  },
  {
   "cell_type": "markdown",
   "metadata": {},
   "source": [
    "# Define network and model parameters"
   ]
  },
  {
   "cell_type": "code",
   "execution_count": null,
   "metadata": {
    "collapsed": true
   },
   "outputs": [],
   "source": [
    "Type = 'segnet'  # Options: segnet, segnetB, bayesian, bayesianB, webdemo\n",
    "\n",
    "NUM_IMAGES = 255\n",
    "\n",
    "MODEL_PATH = '/opt/SegNet/Models/'\n",
    "WEIGHT_PATH = '/opt/SegNet/Models/Inference/'\n",
    "\n",
    "if Type == 'segnet':\n",
    "    model = MODEL_PATH + 'segnet_inference.prototxt'\n",
    "    weights = WEIGHT_PATH + 'test_weights_segnet.caffemodel'\n",
    "elif Type == 'segnetB':\n",
    "    model = MODEL_PATH + 'segnet_basic_inference.prototxt'\n",
    "    weights = WEIGHT_PATH + 'test_weights_segnet_basic.caffemodel'\n",
    "elif Type == 'bayesian':\n",
    "    model = MODEL_PATH + 'bayesian_segnet_inference.prototxt'\n",
    "    weights = WEIGHT_PATH + 'test_weights_bayesian.caffemodel'\n",
    "elif Type == 'bayesianB':\n",
    "    model = MODEL_PATH + 'bayesian_segnet_basic_inference.prototxt'\n",
    "    weights = WEIGHT_PATH + 'test_weights_bayesian_basic.caffemodel'\n",
    "elif Type == 'webdemo':\n",
    "    model = MODEL_PATH + 'webdemo_inference.prototxt'\n",
    "    weights = WEIGHT_PATH + 'test_weights_webdemo.caffemodel'\n",
    "\n",
    "if Type == 'segnet' or Type == 'segnetB':\n",
    "    iterations = NUM_IMAGES\n",
    "if Type == 'bayesian' or Type == 'bayesianB':\n",
    "    colours = MODEL_PATH + '../Scripts/camvid11.png'\n",
    "    data = MODEL_PATH + '../CamVid/test.txt'"
   ]
  },
  {
   "cell_type": "markdown",
   "metadata": {},
   "source": [
    "# Import necessary libraries"
   ]
  },
  {
   "cell_type": "code",
   "execution_count": null,
   "metadata": {
    "collapsed": true
   },
   "outputs": [],
   "source": [
    "import numpy as np\n",
    "import matplotlib\n",
    "import matplotlib.colors as colors\n",
    "import matplotlib.cm as cmx\n",
    "import matplotlib.pyplot as plt\n",
    "import os.path, scipy, json, math, pylab, sys, cv2\n",
    "import scipy.io as sio\n",
    "from sklearn.preprocessing import normalize\n",
    "\n",
    "caffe_root = '/opt/SegNet/caffe-segnet/'\n",
    "sys.path.insert(0, caffe_root + 'python')\n",
    "\n",
    "import caffe\n",
    "\n",
    "%matplotlib inline"
   ]
  },
  {
   "cell_type": "markdown",
   "metadata": {},
   "source": [
    "# Set up caffe network"
   ]
  },
  {
   "cell_type": "code",
   "execution_count": null,
   "metadata": {
    "collapsed": true
   },
   "outputs": [],
   "source": [
    "caffe.set_mode_gpu()\n",
    "\n",
    "net = caffe.Net(model, weights, caffe.TEST)\n",
    "\n",
    "if Type == 'bayesian' or Type == 'bayesianB':\n",
    "    input_shape = net.blobs['data'].data.shape\n",
    "    label_colours = cv2.imread(colours).astype(np.uint8)"
   ]
  },
  {
   "cell_type": "markdown",
   "metadata": {},
   "source": [
    "# Forward propogate through network"
   ]
  },
  {
   "cell_type": "code",
   "execution_count": null,
   "metadata": {
    "collapsed": true
   },
   "outputs": [],
   "source": [
    "# For SegNet\n",
    "if Type == 'segnet' or Type == 'segnetB':\n",
    "    print ('Performing SegNet Classification')\n",
    "    for i in range(0, iterations):\n",
    "        net.forward()\n",
    "\n",
    "        image = net.blobs['data'].data\n",
    "        label = net.blobs['label'].data\n",
    "        predicted = net.blobs['prob'].data\n",
    "        image = np.squeeze(image[0,:,:,:])\n",
    "        output = np.squeeze(predicted[0,:,:,:])\n",
    "        ind = np.argmax(output, axis=0)\n",
    "\n",
    "        r = ind.copy()\n",
    "        g = ind.copy()\n",
    "        b = ind.copy()\n",
    "        r_gt = label.copy()\n",
    "        g_gt = label.copy()\n",
    "        b_gt = label.copy()\n",
    "        Sky = [128,128,128]\n",
    "        Building = [128,0,0]\n",
    "        Pole = [192,192,128]\n",
    "        Road_marking = [255,69,0]\n",
    "        Road = [128,64,128]\n",
    "        Pavement = [60,40,222]\n",
    "        Tree = [128,128,0]\n",
    "        SignSymbol = [192,128,128]\n",
    "        Fence = [64,64,128]\n",
    "        Car = [64,0,128]\n",
    "        Pedestrian = [64,64,0]\n",
    "        Bicyclist = [0,128,192]\n",
    "        Unlabelled = [0,0,0]\n",
    "\n",
    "        label_colours = np.array([Sky, Building, Pole, Road, Pavement, \n",
    "                                  Tree, SignSymbol, Fence, Car, Pedestrian,\n",
    "                                  Bicyclist, Unlabelled])\n",
    "\n",
    "        for l in range(0,11):\n",
    "            r[ind==l] = label_colours[l,0]\n",
    "            g[ind==l] = label_colours[l,1]\n",
    "            b[ind==l] = label_colours[l,2]\n",
    "            r_gt[label==l] = label_colours[l,0]\n",
    "            g_gt[label==l] = label_colours[l,1]\n",
    "            b_gt[label==l] = label_colours[l,2]\n",
    "\n",
    "        rgb = np.zeros((ind.shape[0], ind.shape[1], 3))\n",
    "        rgb[:,:,0] = r/255.0\n",
    "        rgb[:,:,1] = g/255.0\n",
    "        rgb[:,:,2] = b/255.0\n",
    "        rgb_gt = np.zeros((ind.shape[0], ind.shape[1], 3))\n",
    "        rgb_gt[:,:,0] = r_gt/255.0\n",
    "        rgb_gt[:,:,1] = g_gt/255.0\n",
    "        rgb_gt[:,:,2] = b_gt/255.0\n",
    "        image = image/255.0\n",
    "\n",
    "        image = np.transpose(image, (1,2,0))\n",
    "        output = np.transpose(output, (1,2,0))\n",
    "        image = image[:,:,(2,1,0)]\n",
    "\n",
    "        # scipy.misc.toimage(rgb, cmin=0.0, \n",
    "        #                   cmax=255).save(IMAGE_FILE+'_segnet.png')\n",
    "\n",
    "        plt.figure()\n",
    "        plt.imshow(image, vmin=0, vmax=1)\n",
    "        plt.figure()\n",
    "        plt.imshow(rgb_gt, vmin=0, vmax=1)\n",
    "        plt.figure()\n",
    "        plt.imshow(rgb, vmin=0, vmax=1)\n",
    "        plt.axis('off')\n",
    "        plt.show()\n",
    "\n",
    "    print 'Success!'\n",
    "\n",
    "# For Bayesian SegNet\n",
    "elif Type == 'bayesian' or Type == 'bayesianB':\n",
    "    print ('Performing Bayesian SegNet Classification')\n",
    "    with open(data) as f:\n",
    "        for line in f:\n",
    "            input_image_file, ground_truth_file = line.split()\n",
    "            input_image_raw = caffe.io.load_image(input_image_file)\n",
    "            ground_truth = cv2.imread(ground_truth_file, 0)\n",
    "\n",
    "            input_image = caffe.io.resize_image(input_image_raw, (input_shape[2], input_shape[3]))\n",
    "            input_image = input_image*255\n",
    "            input_image = input_image.transpose((2,0,1))\n",
    "            input_image = input_image[(2,1,0),:,:]\n",
    "            input_image = np.asarray([input_image])\n",
    "            input_image = np.repeat(input_image, input_shape[0], axis=0)\n",
    "\n",
    "            # out = net.forward_all(data=input_image)\n",
    "            out = net.forward()\n",
    "\n",
    "            predicted = net.blobs['prob'].data\n",
    "\n",
    "            output = np.mean(predicted,axis=0)\n",
    "            uncertainty = np.var(predicted,axis=0)\n",
    "            ind = np.argmax(output, axis=0)\n",
    "\n",
    "            segmentation_ind_3ch = np.resize(ind,(3,input_shape[2],input_shape[3]))\n",
    "            segmentation_ind_3ch = segmentation_ind_3ch.transpose(1,2,0).astype(np.uint8)\n",
    "            segmentation_rgb = np.zeros(segmentation_ind_3ch.shape, dtype=np.uint8)\n",
    "\n",
    "            gt_ind_3ch = np.resize(ground_truth,(3,input_shape[2],input_shape[3]))\n",
    "            gt_ind_3ch = gt_ind_3ch.transpose(1,2,0).astype(np.uint8)\n",
    "            gt_rgb = np.zeros(gt_ind_3ch.shape, dtype=np.uint8)\n",
    "\n",
    "            cv2.LUT(segmentation_ind_3ch,label_colours,segmentation_rgb)\n",
    "            cv2.LUT(gt_ind_3ch,label_colours,gt_rgb)\n",
    "\n",
    "            uncertainty = np.transpose(uncertainty, (1,2,0))\n",
    "\n",
    "            average_unc = np.mean(uncertainty,axis=2)\n",
    "            min_average_unc = np.min(average_unc)\n",
    "            max_average_unc = np.max(average_unc)\n",
    "            max_unc = np.max(uncertainty)\n",
    "\n",
    "            plt.imshow(input_image_raw,vmin=0, vmax=255)\n",
    "            plt.figure()\n",
    "            plt.imshow(segmentation_rgb,vmin=0, vmax=255)\n",
    "            plt.figure()\n",
    "            plt.imshow(gt_rgb,vmin=0, vmax=255)\n",
    "            plt.set_cmap('bone_r')\n",
    "            plt.figure()\n",
    "            plt.imshow(average_unc,vmin=0, vmax=max_average_unc)\n",
    "            plt.show()\n",
    "\n",
    "            # uncomment to save results\n",
    "            #scipy.misc.toimage(segmentation_rgb, cmin=0.0, cmax=255.0).save(IMAGE_FILE+'_segnet_segmentation.png')\n",
    "            #cm = matplotlib.pyplot.get_cmap('bone_r') \n",
    "            #matplotlib.image.imsave(input_image_file+'_segnet_uncertainty.png',average_unc,cmap=cm, vmin=0, vmax=max_average_unc)\n",
    "\n",
    "            print 'Processed: ', input_image_file\n",
    "\n",
    "    print 'Success!'\n",
    "    \n",
    "# For webdemo and other test cases\n",
    "elif type == 'webdemo':\n",
    "    \n",
    "    \n",
    "    print 'Success'"
   ]
  }
 ],
 "metadata": {
  "kernelspec": {
   "display_name": "Python 2",
   "language": "python",
   "name": "python2"
  },
  "language_info": {
   "codemirror_mode": {
    "name": "ipython",
    "version": 2
   },
   "file_extension": ".py",
   "mimetype": "text/x-python",
   "name": "python",
   "nbconvert_exporter": "python",
   "pygments_lexer": "ipython2",
   "version": "2.7.12"
  }
 },
 "nbformat": 4,
 "nbformat_minor": 0
}
