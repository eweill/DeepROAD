{
 "cells": [
  {
   "cell_type": "markdown",
   "metadata": {},
   "source": [
    "# Link correct CUDA library (6.5 in case of SegNet)"
   ]
  },
  {
   "cell_type": "raw",
   "metadata": {},
   "source": [
    "!sudo unlink /usr/local/cuda\n",
    "!sudo ln -s /usr/local/cuda-6.5 /usr/local/cuda"
   ]
  },
  {
   "cell_type": "markdown",
   "metadata": {},
   "source": [
    "# Set path to SegNet installation"
   ]
  },
  {
   "cell_type": "raw",
   "metadata": {},
   "source": [
    "SEGNET_PATH=/opt/SegNet\n",
    "SEGNET_CAFFE=${SEGNET_PATH}/caffe-segnet"
   ]
  },
  {
   "cell_type": "markdown",
   "metadata": {},
   "source": [
    "# SegNet Training"
   ]
  },
  {
   "cell_type": "raw",
   "metadata": {},
   "source": [
    "# Train SegNet with a random set of weights\n",
    "${SEGNET_CAFFE}/build/tools/caffe train -gpu 0 \\\n",
    "     -solver ${SEGNET_PATH}/Models/segnet_solver.prototxt \\\n",
    "     > stdoutSeg.txt 2> stderrSeg.txt\n",
    "     \n",
    "# Train SegNet with VGG16 initial weights\n",
    "${SEGNET_CAFFE}/build/tools/caffe train -gpu 0 \\\n",
    "     -solver ${SEGNET_PATH}/Models/segnet_solver.prototxt \\\n",
    "     -weights ${SEGNET_PATH}/Models/Training/VGG_ILSVRC_16_layers.caffemodel \\\n",
    "     > stdoutSegVGG.txt 2> stderrSegVGG.txt"
   ]
  },
  {
   "cell_type": "markdown",
   "metadata": {},
   "source": [
    "# SegNet Basic Training"
   ]
  },
  {
   "cell_type": "raw",
   "metadata": {},
   "source": [
    "# Train SegNet with a random set of weights\n",
    "${SEGNET_CAFFE}/build/tools/caffe train -gpu 0 \\\n",
    "     -solver ${SEGNET_PATH}/Models/segnet_basic_solver.prototxt \\\n",
    "     > stdoutSegB.txt 2> stderrSegB.txt\n",
    "     \n",
    "# Train SegNet with VGG16 initial weights\n",
    "${SEGNET_CAFFE}/build/tools/caffe train -gpu 0 \\\n",
    "     -solver ${SEGNET_PATH}/Models/segnet_basic_solver.prototxt \\\n",
    "     -weights ${SEGNET_PATH}/Models/Training/VGG_ILSVRC_16_layers.caffemodel \\\n",
    "     > stdoutSegBVGG.txt 2> stderrSegBVGG.txt"
   ]
  },
  {
   "cell_type": "markdown",
   "metadata": {},
   "source": [
    "# Bayesian SegNet Training"
   ]
  },
  {
   "cell_type": "raw",
   "metadata": {},
   "source": [
    "# Train SegNet with a random set of weights\n",
    "${SEGNET_CAFFE}/build/tools/caffe train -gpu 0 \\\n",
    "     -solver ${SEGNET_PATH}/Models/bayesian_segnet_solver.prototxt \\\n",
    "     > stdoutBay.txt 2> stderrBay.txt\n",
    "     \n",
    "# Train SegNet with VGG16 initial weights\n",
    "${SEGNET_CAFFE}/build/tools/caffe train -gpu 0 \\\n",
    "     -solver ${SEGNET_PATH}/Models/bayesian_segnet_solver.prototxt \\\n",
    "     -weights ${SEGNET_PATH}/Models/Training/VGG_ILSVRC_16_layers.caffemodel \\\n",
    "     > stdoutBayVGG.txt 2> stderrBayVGG.txt"
   ]
  },
  {
   "cell_type": "markdown",
   "metadata": {},
   "source": [
    "# Bayesian SegNet Basic Training"
   ]
  },
  {
   "cell_type": "raw",
   "metadata": {},
   "source": [
    "# Train SegNet with a random set of weights\n",
    "${SEGNET_CAFFE}/build/tools/caffe train -gpu 0 \\\n",
    "     -solver ${SEGNET_PATH}/Models/bayesian_segnet_basic_solver.prototxt \\\n",
    "     > stdoutBayB.txt 2> stderrBayB.txt\n",
    "     \n",
    "# Train SegNet with VGG16 initial weights\n",
    "${SEGNET_CAFFE}/build/tools/caffe train -gpu 0 \\\n",
    "     -solver ${SEGNET_PATH}/Models/bayesian_segnet_basic_solver.prototxt \\\n",
    "     -weights ${SEGNET_PATH}/Models/Training/VGG_ILSVRC_16_layers.caffemodel \\\n",
    "     > stdoutBayBVGG.txt 2> stderrBayBVGG.txt"
   ]
  }
 ],
 "metadata": {
  "kernelspec": {
   "display_name": "Python 2",
   "language": "python",
   "name": "python2"
  },
  "language_info": {
   "codemirror_mode": {
    "name": "ipython",
    "version": 2
   },
   "file_extension": ".py",
   "mimetype": "text/x-python",
   "name": "python",
   "nbconvert_exporter": "python",
   "pygments_lexer": "ipython2",
   "version": "2.7.11"
  },
  "toc": {
   "toc_cell": false,
   "toc_number_sections": true,
   "toc_threshold": 6,
   "toc_window_display": false
  }
 },
 "nbformat": 4,
 "nbformat_minor": 0
}
