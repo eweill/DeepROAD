{
 "cells": [
  {
   "cell_type": "markdown",
   "metadata": {},
   "source": [
    "# Directories for output\n",
    "Change these directories to the appropriate locations for data"
   ]
  },
  {
   "cell_type": "raw",
   "metadata": {},
   "source": [
    "OUTPUT_DIR=/data/VDC/splitTFRecords/\n",
    "TRAIN_DIR=/data/VDC/split/train/\n",
    "VAL_DIR=/data/VDC/split/val/\n",
    "LABELS=/data/VDC/labels.txt"
   ]
  },
  {
   "cell_type": "markdown",
   "metadata": {},
   "source": [
    "# Create labels file and output directory"
   ]
  },
  {
   "cell_type": "raw",
   "metadata": {},
   "source": [
    "touch ${LABELS}\n",
    "mkdir $OUTPUT_DIR}"
   ]
  },
  {
   "cell_type": "markdown",
   "metadata": {},
   "source": [
    "# Build Bazel for Image Data"
   ]
  },
  {
   "cell_type": "raw",
   "metadata": {},
   "source": [
    "bazel build inception/build_image_data"
   ]
  },
  {
   "cell_type": "markdown",
   "metadata": {},
   "source": [
    "# Create TF Records for Inception"
   ]
  },
  {
   "cell_type": "raw",
   "metadata": {},
   "source": [
    "bazel-bin/inception/build_image_data \\\n",
    "    --train_directory=\"${TRAIN_DIR}\" \\\n",
    "    --validation_directory=\"${VAL_DIR}\" \\\n",
    "    --output_directory=\"{OUTPUT_DIR}\" \\\n",
    "    --labels_file=\"${LABELS}\" \\\n",
    "    --train_shards=128 \\\n",
    "    --validation_shards=24 \\\n",
    "    --num_threads=8"
   ]
  },
  {
   "cell_type": "code",
   "execution_count": null,
   "metadata": {
    "collapsed": true
   },
   "outputs": [],
   "source": []
  }
 ],
 "metadata": {
  "kernelspec": {
   "display_name": "Python 2",
   "language": "python",
   "name": "python2"
  },
  "language_info": {
   "codemirror_mode": {
    "name": "ipython",
    "version": 2
   },
   "file_extension": ".py",
   "mimetype": "text/x-python",
   "name": "python",
   "nbconvert_exporter": "python",
   "pygments_lexer": "ipython2",
   "version": "2.7.11"
  },
  "toc": {
   "toc_cell": false,
   "toc_number_sections": true,
   "toc_threshold": 6,
   "toc_window_display": false
  }
 },
 "nbformat": 4,
 "nbformat_minor": 0
}
