{
 "cells": [
  {
   "cell_type": "code",
   "execution_count": 1,
   "metadata": {
    "collapsed": true
   },
   "outputs": [],
   "source": [
    "!sudo unlink /usr/local/cuda\n",
    "!sudo ln -s /usr/local/cuda-7.5 /usr/local/cuda"
   ]
  },
  {
   "cell_type": "code",
   "execution_count": 2,
   "metadata": {
    "collapsed": true
   },
   "outputs": [],
   "source": [
    "import tensorflow as tf\n",
    "import numpy as np"
   ]
  },
  {
   "cell_type": "code",
   "execution_count": 3,
   "metadata": {
    "collapsed": true
   },
   "outputs": [],
   "source": [
    "NUM_CORES = 6\n",
    "\n",
    "config = tf.ConfigProto(\n",
    "    inter_op_parallelism_threads=NUM_CORES,\n",
    "    intra_op_parallelism_threads=NUM_CORES\n",
    ")"
   ]
  },
  {
   "cell_type": "code",
   "execution_count": 4,
   "metadata": {
    "collapsed": true
   },
   "outputs": [],
   "source": [
    "# Creating the placeholders. Note that we include names for more informative errors\n",
    "# and shapes as tensorflow will do static size checking.\n",
    "x_0 = tf.placeholder(tf.float32, shape=(1, 10), name='x_0')\n",
    "W_0 = tf.placeholder(tf.float32, shape=(10, 4), name='W_0')\n",
    "b_0 = tf.placeholder(tf.float32, shape=(1,  4), name='b_0')"
   ]
  },
  {
   "cell_type": "code",
   "execution_count": 5,
   "metadata": {
    "collapsed": true
   },
   "outputs": [],
   "source": [
    "# The fan-in to the summing junction and the summing operation.\n",
    "y_0 = tf.matmul(x_0, W_0) + b_0"
   ]
  },
  {
   "cell_type": "code",
   "execution_count": 6,
   "metadata": {
    "collapsed": true
   },
   "outputs": [],
   "source": [
    "# The activation function\n",
    "a_0 = tf.nn.sigmoid(y_0)"
   ]
  },
  {
   "cell_type": "code",
   "execution_count": 7,
   "metadata": {
    "collapsed": true
   },
   "outputs": [],
   "source": [
    "# Now for the second layer.\n",
    "# x_1 = tf.placeholder(tf.float32, shape=(1, 4), name='x_1')\n",
    "W_1 = tf.placeholder(tf.float32, shape=(4, 2), name='W_1')\n",
    "b_1 = tf.placeholder(tf.float32, shape=(1, 2), name='b_1')"
   ]
  },
  {
   "cell_type": "code",
   "execution_count": 8,
   "metadata": {
    "collapsed": true
   },
   "outputs": [],
   "source": [
    "# The fan-in to the summing junction and the summing operation.\n",
    "y_1 = tf.matmul(a_0, W_1) + b_1"
   ]
  },
  {
   "cell_type": "code",
   "execution_count": 9,
   "metadata": {
    "collapsed": true
   },
   "outputs": [],
   "source": [
    "# The activation function\n",
    "a_1 = tf.nn.sigmoid(y_1)"
   ]
  },
  {
   "cell_type": "code",
   "execution_count": 10,
   "metadata": {
    "collapsed": true
   },
   "outputs": [],
   "source": [
    "# Adding a softmax filter\n",
    "m = tf.nn.softmax(a_1)"
   ]
  },
  {
   "cell_type": "code",
   "execution_count": 11,
   "metadata": {
    "collapsed": false
   },
   "outputs": [
    {
     "name": "stdout",
     "output_type": "stream",
     "text": [
      "[[ 0.50247377  0.49752623]]\n"
     ]
    }
   ],
   "source": [
    "# The activation function doesn't really change here\n",
    "with tf.Session(config=config) as s:\n",
    "    s.run(tf.initialize_all_variables())\n",
    "    \n",
    "    # Let's create some numpy matrices.\n",
    "    # This is for a single layer of four neurons\n",
    "    W_0_in = np.random.rand(10, 4)\n",
    "    x_0_in = np.random.rand(1, 10)\n",
    "    b_0_in = np.random.rand(1,  4)\n",
    "    W_1_in = np.random.rand(4,  2)\n",
    "    b_1_in = np.random.rand(1,  2)\n",
    "    \n",
    "    val = s.run(m,\n",
    "        feed_dict={\n",
    "            x_0: x_0_in,\n",
    "            W_0: W_0_in,\n",
    "            b_0: b_0_in,\n",
    "            W_1: W_1_in,\n",
    "            b_1: b_1_in\n",
    "        })\n",
    "    \n",
    "    print val"
   ]
  },
  {
   "cell_type": "code",
   "execution_count": null,
   "metadata": {
    "collapsed": true
   },
   "outputs": [],
   "source": []
  }
 ],
 "metadata": {
  "kernelspec": {
   "display_name": "Python 2",
   "language": "python",
   "name": "python2"
  },
  "language_info": {
   "codemirror_mode": {
    "name": "ipython",
    "version": 2
   },
   "file_extension": ".py",
   "mimetype": "text/x-python",
   "name": "python",
   "nbconvert_exporter": "python",
   "pygments_lexer": "ipython2",
   "version": "2.7.11"
  },
  "toc": {
   "toc_cell": false,
   "toc_number_sections": true,
   "toc_threshold": 6,
   "toc_window_display": false
  }
 },
 "nbformat": 4,
 "nbformat_minor": 0
}
