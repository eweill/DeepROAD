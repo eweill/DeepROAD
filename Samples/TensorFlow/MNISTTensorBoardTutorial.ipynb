{
 "cells": [
  {
   "cell_type": "markdown",
   "metadata": {},
   "source": [
    "# MNIST Tensorboard Tutorial"
   ]
  },
  {
   "cell_type": "code",
   "execution_count": 1,
   "metadata": {
    "collapsed": true
   },
   "outputs": [],
   "source": [
    "!sudo unlink /usr/local/cuda\n",
    "!sudo ln -s /usr/local/cuda-7.5 /usr/local/cuda"
   ]
  },
  {
   "cell_type": "code",
   "execution_count": 2,
   "metadata": {
    "collapsed": false
   },
   "outputs": [
    {
     "name": "stdout",
     "output_type": "stream",
     "text": [
      "Extracting MNIST_data/train-images-idx3-ubyte.gz\n",
      "Extracting MNIST_data/train-labels-idx1-ubyte.gz\n",
      "Extracting MNIST_data/t10k-images-idx3-ubyte.gz\n",
      "Extracting MNIST_data/t10k-labels-idx1-ubyte.gz\n"
     ]
    }
   ],
   "source": [
    "import tensorflow as tf\n",
    "import tensorflow.examples.tutorials.mnist.input_data as input_data\n",
    "\n",
    "mnist = input_data.read_data_sets(\"MNIST_data/\", one_hot = True)"
   ]
  },
  {
   "cell_type": "markdown",
   "metadata": {},
   "source": [
    "## Establish TensorFlow Graph"
   ]
  },
  {
   "cell_type": "code",
   "execution_count": 3,
   "metadata": {
    "collapsed": true
   },
   "outputs": [],
   "source": [
    "image_size    = 28\n",
    "flat_size     = image_size ** 2\n",
    "n_categories  = 10\n",
    "learning_rate = 0.01\n",
    "\n",
    "graph = tf.Graph()\n",
    "with graph.as_default():\n",
    "    \n",
    "    # Input\n",
    "    x      = tf.placeholder(tf.float32, shape = [None, flat_size])\n",
    "    labels = tf.placeholder(tf.float32, [None, n_categories])\n",
    "    \n",
    "    # Training Variables\n",
    "    W = tf.Variable(tf.zeros(shape = [flat_size, n_categories]))\n",
    "    b = tf.Variable(tf.zeros(shape = [n_categories]))\n",
    "    \n",
    "    # Model\n",
    "    y = tf.nn.softmax(tf.matmul(x, W) + b)\n",
    "    \n",
    "    # Optimizer\n",
    "    cross_entropy = -tf.reduce_sum(labels * tf.log(y))\n",
    "    optimizer     =  tf.train.GradientDescentOptimizer(learning_rate).minimize(cross_entropy)\n",
    "    \n",
    "    # Test accuracty of the model\n",
    "    correct  = tf.equal(tf.argmax(y, 1), tf.argmax(labels, 1))\n",
    "    accuracy = tf.reduce_mean(tf.cast(correct, 'float'))"
   ]
  },
  {
   "cell_type": "code",
   "execution_count": 4,
   "metadata": {
    "collapsed": false
   },
   "outputs": [
    {
     "name": "stdout",
     "output_type": "stream",
     "text": [
      "0.9081\n"
     ]
    }
   ],
   "source": [
    "n_steps = 1000\n",
    "batch_size = 100\n",
    "\n",
    "with tf.Session(graph = graph) as session:\n",
    "    \n",
    "    session.run(tf.initialize_all_variables())\n",
    "    for _ in range(n_steps):\n",
    "        batch_data, batch_labels = mnist.train.next_batch(batch_size)\n",
    "        feed = {x: batch_data, labels:batch_labels}\n",
    "        _ = session.run([accuracy, optimizer], feed_dict = feed)\n",
    "        \n",
    "    print(accuracy.eval(feed_dict = {x: mnist.test.images, labels: mnist.test.labels}))"
   ]
  },
  {
   "cell_type": "markdown",
   "metadata": {},
   "source": [
    "## Using CNN"
   ]
  },
  {
   "cell_type": "code",
   "execution_count": 5,
   "metadata": {
    "collapsed": true
   },
   "outputs": [],
   "source": [
    "# Define helpful functions\n",
    "\n",
    "def weight_variable(shape):\n",
    "    '''\n",
    "    Create a TF variable initialized to random,\n",
    "    uniformly distributed values of shape *shape*.\n",
    "    '''\n",
    "    return tf.Variable(tf.truncated_normal(shape = shape, stddev = 0.1))\n",
    "\n",
    "def bias_variable(shape):\n",
    "    '''\n",
    "    Create a TF variable of small\n",
    "    constant values fo shape *shape*.\n",
    "    '''\n",
    "    return tf.Variable(tf.constant(0.1, shape = shape))\n",
    "\n",
    "def conv2d(x, W):\n",
    "    '''\n",
    "    Perform convolution of stride one and zero padding.\n",
    "    Output will be same size as input\n",
    "    '''\n",
    "    return tf.nn.conv2d(x, W, strides = [1, 1, 1, 1], padding = 'SAME')\n",
    "\n",
    "def max_pool_2x2(x):\n",
    "    '''\n",
    "    Perform max pooling over 2x2 blocks\n",
    "    '''\n",
    "    return tf.nn.max_pool(x, ksize = [1, 2, 2, 1], strides = [1, 2, 2, 1], padding = 'SAME')"
   ]
  },
  {
   "cell_type": "markdown",
   "metadata": {},
   "source": [
    "Adding TensorBoard summaries for the data visualization"
   ]
  },
  {
   "cell_type": "code",
   "execution_count": 6,
   "metadata": {
    "collapsed": false
   },
   "outputs": [
    {
     "name": "stdout",
     "output_type": "stream",
     "text": [
      "(?, 10)\n"
     ]
    }
   ],
   "source": [
    "# Establish the graph\n",
    "image_size     = 28\n",
    "flat_size      = image_size**2\n",
    "color_channels = 1\n",
    "n_categories   = 10\n",
    "learning_rate  = 1e-4\n",
    "\n",
    "graph = tf.Graph()\n",
    "with graph.as_default():\n",
    "    \n",
    "    ### Inputs\n",
    "    \n",
    "    x         = tf.placeholder(tf.float32, shape = [None, flat_size])\n",
    "    l         = tf.placeholder(tf.float32, shape = [None, n_categories])\n",
    "    keep_prob = tf.placeholder('float')\n",
    "    \n",
    "    ### Variables\n",
    "    \n",
    "    # First Layer\n",
    "    W_conv1 = weight_variable([5, 5, 1, 32])\n",
    "    b_conv1 = bias_variable([32])\n",
    "    \n",
    "    # Second Layer\n",
    "    W_conv2 = weight_variable([5, 5, 32, 64])\n",
    "    b_conv2 = bias_variable([64])\n",
    "    \n",
    "    # Fully Connected Layer\n",
    "    W_fc1 = weight_variable([7 * 7 * 64, 1024])\n",
    "    b_fc1 = bias_variable([1024])\n",
    "    \n",
    "    # FCL - Softmax Layer\n",
    "    W_fc2 = weight_variable([1024, n_categories])\n",
    "    b_fc2 = bias_variable([n_categories])\n",
    "    \n",
    "    ### Model\n",
    "    \n",
    "    def cnn():\n",
    "        '''\n",
    "        The CNN model for the graph.\n",
    "        '''\n",
    "        \n",
    "        # First reshape input data to an image representation\n",
    "        image = tf.reshape(x, [-1, image_size, image_size, color_channels])\n",
    "        \n",
    "        # First Layer\n",
    "        conv = conv2d(image, W_conv1) + b_conv1\n",
    "        relu = tf.nn.relu(conv)\n",
    "        pool = max_pool_2x2(relu)\n",
    "        \n",
    "        # Second Layer\n",
    "        conv = conv2d(pool, W_conv2) + b_conv2\n",
    "        relu = tf.nn.relu(conv)\n",
    "        pool = max_pool_2x2(relu)\n",
    "        \n",
    "        # FCL\n",
    "        # Image is now 7x7. Need FCL of 1024 neurons to process entire image.\n",
    "        # Reshape tensor to batch of vectors then apply regression\n",
    "        flat = tf.reshape(pool, [-1, 7 * 7 * 64])\n",
    "        fc   = tf.matmul(flat, W_fc1) + b_fc1\n",
    "        relu = tf.nn.relu(fc)\n",
    "        \n",
    "        # Dropout layer\n",
    "        # Reduces overfitting\n",
    "        # keep_prob is a placeholder to allow disabling during testing\n",
    "        drop = tf.nn.dropout(relu, keep_prob)\n",
    "        \n",
    "        # FCL - Softmax\n",
    "        return tf.nn.softmax(tf.matmul(drop, W_fc2) + b_fc2)\n",
    "    \n",
    "    # Name scope to organize nodes in visualizer\n",
    "    with tf.name_scope('Model') as scope:\n",
    "        y = cnn()\n",
    "        print(y.get_shape())\n",
    "    \n",
    "    ### Optimizer\n",
    "    \n",
    "    with tf.name_scope('CrossEntropy') as scope:\n",
    "        cross_entropy = -tf.reduce_sum(l * tf.log(y))\n",
    "        \n",
    "    with tf.name_scope('Train') as scope:\n",
    "        optimizer     = tf.train.AdamOptimizer(learning_rate).minimize(cross_entropy)\n",
    "    \n",
    "    ### Testing\n",
    "    \n",
    "    with tf.name_scope('Test') as scope:\n",
    "        correct  = tf.equal(tf.argmax(y, 1), tf.argmax(l, 1))\n",
    "        accuracy = tf.reduce_mean(tf.cast(correct, 'float'))\n",
    "    \n",
    "    ### Summary Ops\n",
    "    \n",
    "    # Model\n",
    "    with tf.name_scope('Model') as scope:\n",
    "    \n",
    "        # First Layer\n",
    "        wc1_hist = tf.histogram_summary('conv1 weights', W_conv1)\n",
    "        bc1_hist = tf.histogram_summary('conv1 biases', b_conv1)\n",
    "\n",
    "        # Second Layer\n",
    "        wc2_hist = tf.histogram_summary('conv2 weights', W_conv2)\n",
    "        bc2_hist = tf.histogram_summary('conv2 biases', b_conv2)\n",
    "\n",
    "        # First FCL\n",
    "        wf1_hist = tf.histogram_summary('fcl1 weights', W_fc1)\n",
    "        bf1_hist = tf.histogram_summary('fcl1 biases', b_fc1)\n",
    "\n",
    "        # Second FCL\n",
    "        wf2_hist = tf.histogram_summary('fc2 weights', W_fc2)\n",
    "        bf1_hist = tf.histogram_summary('fc2 biases', b_fc2)\n",
    "        \n",
    "    # Cross Entropy\n",
    "    with tf.name_scope('CrossEntropy') as scope:\n",
    "        ce_summ  = tf.scalar_summary('cross entropy', cross_entropy)\n",
    "        \n",
    "    # Test\n",
    "    with tf.name_scope('Train') as scope:\n",
    "        acc_summ = tf.scalar_summary('accuracy', accuracy)\n",
    "        \n",
    "    # Merge all summaries\n",
    "    merged = tf.merge_all_summaries()"
   ]
  },
  {
   "cell_type": "code",
   "execution_count": 7,
   "metadata": {
    "collapsed": false
   },
   "outputs": [
    {
     "name": "stdout",
     "output_type": "stream",
     "text": [
      "Step 0: training accuracy = 0.1%\n",
      "Step 1000: training accuracy = 0.92%\n",
      "Step 2000: training accuracy = 0.96%\n",
      "Step 3000: training accuracy = 0.96%\n",
      "Step 4000: training accuracy = 1%\n",
      "Step 5000: training accuracy = 1%\n",
      "Step 6000: training accuracy = 1%\n",
      "Step 7000: training accuracy = 1%\n",
      "Step 8000: training accuracy = 1%\n",
      "Step 9000: training accuracy = 0.98%\n",
      "Step 10000: training accuracy = 0.98%\n",
      "Step 11000: training accuracy = 1%\n",
      "Step 12000: training accuracy = 1%\n",
      "Step 13000: training accuracy = 1%\n",
      "Step 14000: training accuracy = 1%\n",
      "Step 15000: training accuracy = 1%\n",
      "Step 16000: training accuracy = 1%\n",
      "Step 17000: training accuracy = 1%\n",
      "Step 18000: training accuracy = 1%\n",
      "Step 19000: training accuracy = 1%\n",
      "Test accuracy = 0.9919%\n"
     ]
    }
   ],
   "source": [
    "# Run the session\n",
    "n_steps    = 20000\n",
    "batch_size = 50\n",
    "log_step   = 1000\n",
    "keep       = 0.5\n",
    "log_dir    = './log/mnist_logs'\n",
    "\n",
    "with tf.Session(graph = graph) as session:\n",
    "    \n",
    "    # Write merged summaries to log_dir\n",
    "    writer = tf.train.SummaryWriter(log_dir, session.graph)\n",
    "    \n",
    "    session.run(tf.initialize_all_variables())\n",
    "    for i in range(n_steps):\n",
    "        \n",
    "        # Run the batch\n",
    "        batch_data, batch_labels = mnist.train.next_batch(batch_size)\n",
    "        feed = {x: batch_data, l: batch_labels, keep_prob: keep}\n",
    "        _ = session.run([optimizer], feed_dict = feed)\n",
    "        \n",
    "        # Logging every log_step\n",
    "        if i % log_step == 0:\n",
    "            log_feed = {x: batch_data, l: batch_labels, keep_prob: 1.0}\n",
    "            summ_str, acc = session.run([merged, accuracy], feed_dict = log_feed)\n",
    "            writer.add_summary(summ_str, i)\n",
    "            print('Step {0}: training accuracy = {1:g}%'.format(i, acc))\n",
    "            \n",
    "    # Test accuracy\n",
    "    test_feed = {x: mnist.test.images, l: mnist.test.labels, keep_prob: 1.0}\n",
    "    print('Test accuracy = {0:g}%'.format(accuracy.eval(feed_dict = test_feed)))"
   ]
  },
  {
   "cell_type": "code",
   "execution_count": 8,
   "metadata": {
    "collapsed": false
   },
   "outputs": [
    {
     "name": "stdout",
     "output_type": "stream",
     "text": [
      "I tensorflow/stream_executor/dso_loader.cc:108] successfully opened CUDA library libcublas.so locally\n",
      "I tensorflow/stream_executor/dso_loader.cc:108] successfully opened CUDA library libcudnn.so locally\n",
      "I tensorflow/stream_executor/dso_loader.cc:108] successfully opened CUDA library libcufft.so locally\n",
      "I tensorflow/stream_executor/dso_loader.cc:108] successfully opened CUDA library libcuda.so locally\n",
      "I tensorflow/stream_executor/dso_loader.cc:108] successfully opened CUDA library libcurand.so locally\n",
      "WARNING:tensorflow:IOError [Errno 2] No such file or directory: '/opt/anaconda/lib/python2.7/site-packages/tensorflow/tensorboard/TAG' on path /opt/anaconda/lib/python2.7/site-packages/tensorflow/tensorboard/TAG\n",
      "WARNING:tensorflow:Unable to read TensorBoard tag\n",
      "Starting TensorBoard  on port 8088\n",
      "(You can navigate to http://0.0.0.0:8088)\n",
      "WARNING:tensorflow:Found more than one graph event per run. Overwriting the graph with the newest event.\n",
      "10.182.71.230 - - [03/Aug/2016 14:53:23] \"GET / HTTP/1.1\" 200 -\n",
      "10.182.71.230 - - [03/Aug/2016 14:53:23] \"GET /external/plottable/plottable.css HTTP/1.1\" 200 -\n",
      "10.182.71.230 - - [03/Aug/2016 14:53:23] \"GET /lib/css/global.css HTTP/1.1\" 200 -\n",
      "10.182.71.230 - - [03/Aug/2016 14:53:23] \"GET /external/plottable/plottable.min.js HTTP/1.1\" 200 -\n",
      "10.182.71.230 - - [03/Aug/2016 14:53:23] \"GET /external/lodash/lodash.min.js HTTP/1.1\" 200 -\n",
      "10.182.71.230 - - [03/Aug/2016 14:53:23] \"GET /external/d3/d3.min.js HTTP/1.1\" 200 -\n",
      "10.182.71.230 - - [03/Aug/2016 14:53:23] \"GET /external/graphlib/dist/graphlib.core.min.js HTTP/1.1\" 200 -\n",
      "10.182.71.230 - - [03/Aug/2016 14:53:23] \"GET /external/dagre/dist/dagre.core.min.js HTTP/1.1\" 200 -\n",
      "10.182.71.230 - - [03/Aug/2016 14:53:23] \"GET /external/webcomponentsjs/webcomponents-lite.min.js HTTP/1.1\" 200 -\n",
      "10.182.71.230 - - [03/Aug/2016 14:53:24] \"GET /external/polymer/polymer.html HTTP/1.1\" 200 -\n",
      "10.182.71.230 - - [03/Aug/2016 14:53:24] \"GET /external/iron-ajax/iron-ajax.html HTTP/1.1\" 200 -\n",
      "10.182.71.230 - - [03/Aug/2016 14:53:24] \"GET /external/iron-collapse/iron-collapse.html HTTP/1.1\" 200 -\n",
      "10.182.71.230 - - [03/Aug/2016 14:53:24] \"GET /external/iron-list/iron-list.html HTTP/1.1\" 200 -\n",
      "10.182.71.230 - - [03/Aug/2016 14:53:24] \"GET /external/paper-button/paper-button.html HTTP/1.1\" 200 -\n",
      "10.182.71.230 - - [03/Aug/2016 14:53:24] \"GET /external/paper-checkbox/paper-checkbox.html HTTP/1.1\" 200 -\n",
      "10.182.71.230 - - [03/Aug/2016 14:53:24] \"GET /external/paper-dialog/paper-dialog.html HTTP/1.1\" 200 -\n",
      "10.182.71.230 - - [03/Aug/2016 14:53:24] \"GET /external/paper-dropdown-menu/paper-dropdown-menu.html HTTP/1.1\" 200 -\n",
      "10.182.71.230 - - [03/Aug/2016 14:53:24] \"GET /external/paper-header-panel/paper-header-panel.html HTTP/1.1\" 200 -\n",
      "10.182.71.230 - - [03/Aug/2016 14:53:24] \"GET /external/paper-icon-button/paper-icon-button.html HTTP/1.1\" 200 -\n",
      "10.182.71.230 - - [03/Aug/2016 14:53:24] \"GET /external/paper-input/paper-input.html HTTP/1.1\" 200 -\n",
      "10.182.71.230 - - [03/Aug/2016 14:53:24] \"GET /external/paper-item/paper-item.html HTTP/1.1\" 200 -\n",
      "10.182.71.230 - - [03/Aug/2016 14:53:24] \"GET /external/paper-menu/paper-menu.html HTTP/1.1\" 200 -\n",
      "10.182.71.230 - - [03/Aug/2016 14:53:24] \"GET /external/paper-progress/paper-progress.html HTTP/1.1\" 200 -\n",
      "10.182.71.230 - - [03/Aug/2016 14:53:24] \"GET /external/paper-radio-button/paper-radio-button.html HTTP/1.1\" 200 -\n",
      "10.182.71.230 - - [03/Aug/2016 14:53:24] \"GET /external/paper-radio-group/paper-radio-group.html HTTP/1.1\" 200 -\n",
      "10.182.71.230 - - [03/Aug/2016 14:53:24] \"GET /external/paper-slider/paper-slider.html HTTP/1.1\" 200 -\n",
      "10.182.71.230 - - [03/Aug/2016 14:53:24] \"GET /external/paper-styles/paper-styles.html HTTP/1.1\" 200 -\n",
      "10.182.71.230 - - [03/Aug/2016 14:53:24] \"GET /external/paper-toggle-button/paper-toggle-button.html HTTP/1.1\" 200 -\n",
      "10.182.71.230 - - [03/Aug/2016 14:53:24] \"GET /external/paper-toolbar/paper-toolbar.html HTTP/1.1\" 200 -\n",
      "10.182.71.230 - - [03/Aug/2016 14:53:24] \"GET /external/paper-tabs/paper-tabs.html HTTP/1.1\" 200 -\n",
      "10.182.71.230 - - [03/Aug/2016 14:53:24] \"GET /dist/tf-tensorboard.html HTTP/1.1\" 200 -\n",
      "10.182.71.230 - - [03/Aug/2016 14:53:24] \"GET /external/polymer/polymer-mini.html HTTP/1.1\" 200 -\n",
      "10.182.71.230 - - [03/Aug/2016 14:53:24] \"GET /external/polymer/polymer-micro.html HTTP/1.1\" 200 -\n",
      "10.182.71.230 - - [03/Aug/2016 14:53:24] \"GET /external/paper-material/paper-material.html HTTP/1.1\" 200 -\n",
      "10.182.71.230 - - [03/Aug/2016 14:53:24] \"GET /external/paper-ripple/paper-ripple.html HTTP/1.1\" 200 -\n",
      "10.182.71.230 - - [03/Aug/2016 14:53:24] \"GET /external/iron-flex-layout/iron-flex-layout.html HTTP/1.1\" 200 -\n",
      "10.182.71.230 - - [03/Aug/2016 14:53:24] \"GET /external/paper-behaviors/paper-button-behavior.html HTTP/1.1\" 200 -\n",
      "10.182.71.230 - - [03/Aug/2016 14:53:24] \"GET /external/iron-ajax/iron-request.html HTTP/1.1\" 200 -\n",
      "10.182.71.230 - - [03/Aug/2016 14:53:24] \"GET /external/iron-a11y-keys-behavior/iron-a11y-keys-behavior.html HTTP/1.1\" 200 -\n",
      "10.182.71.230 - - [03/Aug/2016 14:53:24] \"GET /external/iron-selector/iron-selectable.html HTTP/1.1\" 200 -\n",
      "10.182.71.230 - - [03/Aug/2016 14:53:24] \"GET /external/iron-menu-behavior/iron-menu-behavior.html HTTP/1.1\" 200 -\n",
      "10.182.71.230 - - [03/Aug/2016 14:53:24] \"GET /external/paper-styles/default-theme.html HTTP/1.1\" 200 -\n",
      "10.182.71.230 - - [03/Aug/2016 14:53:24] \"GET /external/paper-styles/color.html HTTP/1.1\" 200 -\n",
      "10.182.71.230 - - [03/Aug/2016 14:53:24] \"GET /external/paper-menu/paper-menu-shared-styles.html HTTP/1.1\" 200 -\n",
      "10.182.71.230 - - [03/Aug/2016 14:53:24] \"GET /external/iron-flex-layout/classes/iron-flex-layout.html HTTP/1.1\" 200 -\n",
      "10.182.71.230 - - [03/Aug/2016 14:53:24] \"GET /external/paper-styles/shadow.html HTTP/1.1\" 200 -\n",
      "10.182.71.230 - - [03/Aug/2016 14:53:24] \"GET /external/paper-styles/typography.html HTTP/1.1\" 200 -\n",
      "10.182.71.230 - - [03/Aug/2016 14:53:24] \"GET /external/iron-icon/iron-icon.html HTTP/1.1\" 200 -\n",
      "10.182.71.230 - - [03/Aug/2016 14:53:24] \"GET /external/paper-behaviors/paper-inky-focus-behavior.html HTTP/1.1\" 200 -\n",
      "10.182.71.230 - - [03/Aug/2016 14:53:24] \"GET /external/iron-form-element-behavior/iron-form-element-behavior.html HTTP/1.1\" 200 -\n",
      "10.182.71.230 - - [03/Aug/2016 14:53:24] \"GET /external/iron-range-behavior/iron-range-behavior.html HTTP/1.1\" 200 -\n",
      "10.182.71.230 - - [03/Aug/2016 14:53:24] \"GET /external/iron-menu-behavior/iron-menubar-behavior.html HTTP/1.1\" 200 -\n",
      "10.182.71.230 - - [03/Aug/2016 14:53:24] \"GET /external/iron-resizable-behavior/iron-resizable-behavior.html HTTP/1.1\" 200 -\n",
      "10.182.71.230 - - [03/Aug/2016 14:53:24] \"GET /external/paper-tabs/paper-tabs-icons.html HTTP/1.1\" 200 -\n",
      "10.182.71.230 - - [03/Aug/2016 14:53:24] \"GET /external/paper-tabs/paper-tab.html HTTP/1.1\" 200 -\n",
      "10.182.71.230 - - [03/Aug/2016 14:53:24] \"GET /external/paper-behaviors/paper-checked-element-behavior.html HTTP/1.1\" 200 -\n",
      "10.182.71.230 - - [03/Aug/2016 14:53:24] \"GET /external/paper-item/paper-item-behavior.html HTTP/1.1\" 200 -\n",
      "10.182.71.230 - - [03/Aug/2016 14:53:24] \"GET /external/paper-item/paper-item-shared-styles.html HTTP/1.1\" 200 -\n",
      "10.182.71.230 - - [03/Aug/2016 14:53:24] \"GET /external/paper-input/paper-input-behavior.html HTTP/1.1\" 200 -\n",
      "10.182.71.230 - - [03/Aug/2016 14:53:24] \"GET /external/iron-input/iron-input.html HTTP/1.1\" 200 -\n",
      "10.182.71.230 - - [03/Aug/2016 14:53:24] \"GET /external/paper-input/paper-input-char-counter.html HTTP/1.1\" 200 -\n",
      "10.182.71.230 - - [03/Aug/2016 14:53:24] \"GET /external/paper-input/paper-input-container.html HTTP/1.1\" 200 -\n",
      "10.182.71.230 - - [03/Aug/2016 14:53:24] \"GET /external/paper-input/paper-input-error.html HTTP/1.1\" 200 -\n",
      "10.182.71.230 - - [03/Aug/2016 14:53:24] \"GET /external/paper-menu-button/paper-menu-button.html HTTP/1.1\" 200 -\n",
      "10.182.71.230 - - [03/Aug/2016 14:53:24] \"GET /external/iron-behaviors/iron-control-state.html HTTP/1.1\" 200 -\n",
      "10.182.71.230 - - [03/Aug/2016 14:53:24] \"GET /external/iron-behaviors/iron-button-state.html HTTP/1.1\" 200 -\n",
      "10.182.71.230 - - [03/Aug/2016 14:53:24] \"GET /external/iron-validatable-behavior/iron-validatable-behavior.html HTTP/1.1\" 200 -\n",
      "10.182.71.230 - - [03/Aug/2016 14:53:24] \"GET /external/iron-icons/iron-icons.html HTTP/1.1\" 200 -\n",
      "10.182.71.230 - - [03/Aug/2016 14:53:24] \"GET /external/neon-animation/neon-animation-runner-behavior.html HTTP/1.1\" 200 -\n",
      "10.182.71.230 - - [03/Aug/2016 14:53:24] \"GET /external/paper-dialog-behavior/paper-dialog-behavior.html HTTP/1.1\" 200 -\n",
      "10.182.71.230 - - [03/Aug/2016 14:53:24] \"GET /external/paper-dialog-behavior/paper-dialog-shared-styles.html HTTP/1.1\" 200 -\n",
      "10.182.71.230 - - [03/Aug/2016 14:53:24] \"GET /external/paper-material/paper-material-shared-styles.html HTTP/1.1\" 200 -\n",
      "10.182.71.230 - - [03/Aug/2016 14:53:24] \"GET /external/paper-behaviors/paper-ripple-behavior.html HTTP/1.1\" 200 -\n",
      "10.182.71.230 - - [03/Aug/2016 14:53:24] \"GET /external/promise-polyfill/promise-polyfill-lite.html HTTP/1.1\" 200 -\n",
      "10.182.71.230 - - [03/Aug/2016 14:53:24] \"GET /external/iron-selector/iron-selection.html HTTP/1.1\" 200 -\n",
      "10.182.71.230 - - [03/Aug/2016 14:53:24] \"GET /external/iron-selector/iron-multi-selectable.html HTTP/1.1\" 200 -\n",
      "10.182.71.230 - - [03/Aug/2016 14:53:24] \"GET /external/iron-flex-layout/classes/iron-shadow-flex-layout.html HTTP/1.1\" 200 -\n",
      "10.182.71.230 - - [03/Aug/2016 14:53:24] \"GET /external/promise-polyfill/Promise.js HTTP/1.1\" 200 -\n",
      "10.182.71.230 - - [03/Aug/2016 14:53:24] \"GET /external/font-roboto/roboto.html HTTP/1.1\" 200 -\n",
      "10.182.71.230 - - [03/Aug/2016 14:53:24] \"GET /external/iron-meta/iron-meta.html HTTP/1.1\" 200 -\n",
      "10.182.71.230 - - [03/Aug/2016 14:53:24] \"GET /external/iron-iconset-svg/iron-iconset-svg.html HTTP/1.1\" 200 -\n",
      "10.182.71.230 - - [03/Aug/2016 14:53:24] \"GET /external/iron-a11y-announcer/iron-a11y-announcer.html HTTP/1.1\" 200 -\n",
      "10.182.71.230 - - [03/Aug/2016 14:53:24] \"GET /external/iron-checked-element-behavior/iron-checked-element-behavior.html HTTP/1.1\" 200 -\n",
      "10.182.71.230 - - [03/Aug/2016 14:53:24] \"GET /external/paper-input/paper-input-addon-behavior.html HTTP/1.1\" 200 -\n",
      "10.182.71.230 - - [03/Aug/2016 14:53:24] \"GET /external/iron-dropdown/iron-dropdown.html HTTP/1.1\" 200 -\n",
      "10.182.71.230 - - [03/Aug/2016 14:53:24] \"GET /external/neon-animation/animations/fade-in-animation.html HTTP/1.1\" 200 -\n",
      "10.182.71.230 - - [03/Aug/2016 14:53:24] \"GET /external/neon-animation/animations/fade-out-animation.html HTTP/1.1\" 200 -\n",
      "10.182.71.230 - - [03/Aug/2016 14:53:24] \"GET /external/paper-menu-button/paper-menu-button-animations.html HTTP/1.1\" 200 -\n",
      "10.182.71.230 - - [03/Aug/2016 14:53:24] \"GET /external/neon-animation/neon-animatable-behavior.html HTTP/1.1\" 200 -\n",
      "10.182.71.230 - - [03/Aug/2016 14:53:24] \"GET /external/iron-overlay-behavior/iron-overlay-behavior.html HTTP/1.1\" 200 -\n",
      "10.182.71.230 - - [03/Aug/2016 14:53:24] \"GET /external/iron-dropdown/iron-dropdown-scroll-manager.html HTTP/1.1\" 200 -\n",
      "10.182.71.230 - - [03/Aug/2016 14:53:24] \"GET /external/neon-animation/animations/opaque-animation.html HTTP/1.1\" 200 -\n",
      "10.182.71.230 - - [03/Aug/2016 14:53:24] \"GET /external/neon-animation/neon-animation-behavior.html HTTP/1.1\" 200 -\n",
      "10.182.71.230 - - [03/Aug/2016 14:53:24] \"GET /external/neon-animation/web-animations.html HTTP/1.1\" 200 -\n",
      "10.182.71.230 - - [03/Aug/2016 14:53:24] \"GET /external/iron-fit-behavior/iron-fit-behavior.html HTTP/1.1\" 200 -\n",
      "10.182.71.230 - - [03/Aug/2016 14:53:24] \"GET /external/web-animations-js/web-animations-next-lite.min.js HTTP/1.1\" 200 -\n",
      "10.182.71.230 - - [03/Aug/2016 14:53:24] \"GET /external/iron-overlay-behavior/iron-overlay-manager.html HTTP/1.1\" 200 -\n",
      "10.182.71.230 - - [03/Aug/2016 14:53:24] \"GET /external/iron-overlay-behavior/iron-overlay-backdrop.html HTTP/1.1\" 200 -\n",
      "10.182.71.230 - - [03/Aug/2016 14:53:25] \"GET /data/runs HTTP/1.1\" 200 -\n",
      "10.182.71.230 - - [03/Aug/2016 14:53:25] \"GET /data/runs HTTP/1.1\" 200 -\n",
      "10.182.71.230 - - [03/Aug/2016 14:53:27] \"GET /data/scalars?run=.&tag=accuracy HTTP/1.1\" 200 -\n",
      "10.182.71.230 - - [03/Aug/2016 14:53:29] \"GET /data/scalars?run=.&tag=cross%20entropy HTTP/1.1\" 200 -\n",
      "^CTraceback (most recent call last):\n",
      "  File \"/opt/anaconda/bin/tensorboard\", line 11, in <module>\n",
      "    sys.exit(main())\n",
      "  File \"/opt/anaconda/lib/python2.7/site-packages/tensorflow/tensorboard/tensorboard.py\", line 141, in main\n",
      "    tb_server.serve_forever()\n",
      "  File \"/opt/anaconda/lib/python2.7/SocketServer.py\", line 236, in serve_forever\n",
      "    poll_interval)\n",
      "  File \"/opt/anaconda/lib/python2.7/SocketServer.py\", line 155, in _eintr_retry\n",
      "    return func(*args)\n",
      "KeyboardInterrupt\n",
      "\n"
     ]
    }
   ],
   "source": [
    "!/opt/anaconda/bin/tensorboard --logdir=./log/mnist_logs --port=8088"
   ]
  },
  {
   "cell_type": "code",
   "execution_count": null,
   "metadata": {
    "collapsed": true
   },
   "outputs": [],
   "source": []
  }
 ],
 "metadata": {
  "kernelspec": {
   "display_name": "Python 2",
   "language": "python",
   "name": "python2"
  },
  "language_info": {
   "codemirror_mode": {
    "name": "ipython",
    "version": 2
   },
   "file_extension": ".py",
   "mimetype": "text/x-python",
   "name": "python",
   "nbconvert_exporter": "python",
   "pygments_lexer": "ipython2",
   "version": "2.7.11"
  },
  "toc": {
   "toc_cell": false,
   "toc_number_sections": true,
   "toc_threshold": 6,
   "toc_window_display": false
  }
 },
 "nbformat": 4,
 "nbformat_minor": 0
}
