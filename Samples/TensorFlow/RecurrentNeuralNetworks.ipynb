{
 "cells": [
  {
   "cell_type": "markdown",
   "metadata": {},
   "source": [
    "# Recurrent Neural Networks"
   ]
  },
  {
   "cell_type": "markdown",
   "metadata": {},
   "source": [
    "## Introduction\n",
    "\n",
    "Take a look a [this great article](http://colah.github.io/posts/2015-08-Understanding-LSTMs/) for an introduction to recurrent neural networks and LSTMs in particular."
   ]
  },
  {
   "cell_type": "markdown",
   "metadata": {},
   "source": [
    "## Language Modeling\n",
    "\n",
    "In this tutorial we will show how to train a recurrent neural network on a challenging task of language modeling. The goal of the problem is to fit a probabilistic model which assigns probabilities to sentences. It does so by predicting next words in a text given a history of previous words. For this purpose we will use the [Penn Tree Bank](http://www.cis.upenn.edu/~treebank/)(PTB) dataset, which is a popular benchmark for measuring quality of these models, whilst being small and relatively fast to train.\n",
    "\n",
    "Language modeling is key to many interesting problems such as speech recognition, machine translation, or image captioning. It is also fun, too -- take a look [here](http://karpathy.github.io/2015/05/21/rnn-effectiveness/)\n",
    "\n",
    "For the purpose of this tutorial, we will reproduce the results from [Zaremba et al., 2014](http://arxiv.org/abs/1409.2329)([pdf](http://arxiv.org/pdf/1409.2329.pdf)), which achieves very good results on the PTB dataset."
   ]
  },
  {
   "cell_type": "markdown",
   "metadata": {},
   "source": [
    "## Tutorial Files\n",
    "This tutorial references the following files from __`models/rnn/ptb:`__"
   ]
  },
  {
   "cell_type": "markdown",
   "metadata": {},
   "source": [
    "|    __File__    |                   __Purpose__                          |\n",
    "| :-------------:|:------------------------------------------------------:|\n",
    "| ptb_word_lm.py | The code to train a language model on the PTB dataset. |\n",
    "| reader.py      | The code to reset the dataset.                         |"
   ]
  },
  {
   "cell_type": "markdown",
   "metadata": {},
   "source": [
    "## Download and prepare the data\n",
    "The data required for this tutorial is in the data/ directory of the PTB dataset from Tomas Mikolov's webpage: [http://www.fit.vutbr.cz/~imikolov/rnnlm/simple-examples.tgz](https://www.google.com/url?q=http://www.fit.vutbr.cz/~imikolov/rnnlm/simple-examples.tgz&usg=AFQjCNG0IP5OHusdIAdJIrrem-HMck9AzA)\n",
    "\n",
    "The dataset is already preprocessed and contains overall 10000 different words, including the end-of-sentence marker and a special symbol (<unk>) for rare words. We convert all of them in the __reader.py__ to unique integer identifiers to make it easy for the neural network to process."
   ]
  },
  {
   "cell_type": "markdown",
   "metadata": {},
   "source": [
    "## The Model\n",
    "\n",
    "### LSTM\n",
    "\n",
    "The core of the model consists of an LSTM cell that processes one word at a time and computes probabilities of the possible continuations of the sentence. The memory state of the network is initialized with a vector of zeros and gets updated after reading each word. Also, for computational reasons, we will process data in mini-batches of size __`batch_size`__.\n",
    "\n",
    "The basic pseudocode looks as follows:"
   ]
  },
  {
   "cell_type": "raw",
   "metadata": {},
   "source": [
    "lstm = rnn_cell.BasicLSTMCell(lstm_size)\n",
    "# Initial state of the LSTM memory.\n",
    "state = tf.zeros([batch_size, lstm.state_size])\n",
    "\n",
    "loss = 0.0\n",
    "for current_batch_of_words in words_in_dataset:\n",
    "    # The value of state is updated after processing each batch of words.\n",
    "    output, state = lstm(current_batch_of_words, state)\n",
    "\n",
    "    # The LSTM output can be used to make next word predictions\n",
    "    logits = tf.matmul(output, softmax_w) + softmax_b\n",
    "    probabilities = tf.nn.softmax(logits)\n",
    "    loss += loss_function(probabilities, target_words)"
   ]
  },
  {
   "cell_type": "markdown",
   "metadata": {},
   "source": [
    "### Truncated Backpropogation\n",
    "\n",
    "In order to make the learning process tractable, it is a common practice to truncate the gradients for backpropagation to a fixed number (__`num_steps`__) of unrolled steps. This is easy to implement by feeding inputs of length `num_steps` at a time and doing backward pass after each iteration.\n",
    "\n",
    "A simplified version of the code for the graph creation for truncated backpropagation:"
   ]
  },
  {
   "cell_type": "raw",
   "metadata": {},
   "source": [
    "# Placeholder for the inputs in a given iteration.\n",
    "words = tf.placeholder(tf.int32, [batch_size, num_steps])\n",
    "\n",
    "lstm = rnn_cell.BasicLSTMCell(lstm_size)\n",
    "# Initial state of the LSTM memory.\n",
    "initial_state = state = tf.zeros([batch_size, lstm.state_size])\n",
    "\n",
    "for i in range(num_steps):\n",
    "    # The value of state is updated after processing each batch of words.\n",
    "    output, state = lstm(words[:, i], state)\n",
    "\n",
    "    # The rest of the code.\n",
    "    # ...\n",
    "\n",
    "final_state = state"
   ]
  },
  {
   "cell_type": "markdown",
   "metadata": {},
   "source": [
    "And this is how to implement an iteration over the whole dataset:"
   ]
  },
  {
   "cell_type": "raw",
   "metadata": {},
   "source": [
    "# A numpy array holding the state of LSTM after each batch of words.\n",
    "numpy_state = initial_state.eval()\n",
    "total_loss = 0.0\n",
    "for current_batch_of_words in words_in_dataset:\n",
    "    numpy_state, current_loss = session.run([final_state, loss],\n",
    "        # Initialize the LSTM state from the previous iteration.\n",
    "        feed_dict={initial_state: numpy_state, words: current_batch_of_words})\n",
    "    total_loss += current_loss"
   ]
  },
  {
   "cell_type": "markdown",
   "metadata": {},
   "source": [
    "### Inputs\n",
    "\n",
    "The word IDs will be embedded into a dense representation (see the [Vector Representations Tutorial](https://www.tensorflow.org/versions/r0.9/tutorials/word2vec/index.html)) before feeding to the LSTM. This allows the model to efficiently represent the knowledge about particular words. It is also easy to write:"
   ]
  },
  {
   "cell_type": "raw",
   "metadata": {},
   "source": [
    "# embedding_matrix is a tensor of shape [vocabulary_size, embedding size]\n",
    "word_embeddings = tf.nn.embedding_lookup(embedding_matrix, word_ids)"
   ]
  },
  {
   "cell_type": "markdown",
   "metadata": {},
   "source": [
    "The embedding matrix will be initialized randomly and the model will learn to differentiate the meaning of words just by looking at the data."
   ]
  },
  {
   "cell_type": "markdown",
   "metadata": {},
   "source": [
    "### Loss Function\n",
    "\n",
    "We want to minimize the average negative log probability of the target words:\n",
    "\n",
    "$$ loss = -\\frac{1}{N}\\sum_{i=1}^{N} ln p_{target_i} $$\n",
    "\n",
    "It is not very difficult to implement but the function __`sequence_loss_by_example`__ is already available, so we can just use it here.\n",
    "\n",
    "The typical measure reported in the papers is average per-word perplexity (often just called perplexity), which is equal to\n",
    "\n",
    "$$ e^{-\\frac{1}{N}\\sum_{i=1}^{N} ln p_{target_i}} = e^{loss} $$\n",
    "\n",
    "and we will monitor its value throughout the training process."
   ]
  },
  {
   "cell_type": "markdown",
   "metadata": {},
   "source": [
    "## Stacking multiple LSTMs\n",
    "\n",
    "To give the model more expressive power, we can add multiple layers of LSTMs to process the data. The output of the first layer will become the input of the second and so on.\n",
    "\n",
    "We have a class called __`MultiRNNCell`__ that makes the implementation seamless:"
   ]
  },
  {
   "cell_type": "raw",
   "metadata": {},
   "source": [
    "lstm = rnn_cell.BasicLSTMCell(lstm_size)\n",
    "stacked_lstm = rnn_cell.MultiRNNCell([lstm] * number_of_layers)\n",
    "\n",
    "initial_state = state = stacked_lstm.zero_state(batch_size, tf.float32)\n",
    "for i in range(num_steps):\n",
    "    # The value of state is updated after processing each batch of words.\n",
    "    output, state = stacked_lstm(words[:, i], state)\n",
    "\n",
    "    # The rest of the code.\n",
    "    # ...\n",
    "\n",
    "final_state = state"
   ]
  },
  {
   "cell_type": "markdown",
   "metadata": {},
   "source": [
    "## Run the Code\n",
    "\n",
    "We are assuming you have already installed via the pip package, have cloned the tensorflow git repository, and are in the root of the git tree. (If [building from source](https://github.com/tensorflow/tensorflow/blob/master/tensorflow/g3doc/get_started/os_setup.md#installing-from-sources), build the tensorflow/models/rnn/ptb:ptb_word_lm target using [bazel](https://github.com/bazelbuild/bazel)).\n",
    "\n",
    "Next: __`cd tensorflow/models/rnn/ptb python ptb_word_lm --data_path=/tmp/simple-examples/data/ --model small`__\n",
    "\n",
    "There are 3 supported model configurations in the tutorial code: \"small\", \"medium\" and \"large\". The difference between them is in size of the LSTMs and the set of hyperparameters used for training.\n",
    "\n",
    "The larger the model, the better results it should get. The small model should be able to reach perplexity below 120 on the test set and the large one below 80, though it might take several hours to train."
   ]
  },
  {
   "cell_type": "markdown",
   "metadata": {},
   "source": [
    "## What Next?\n",
    "\n",
    "There are several tricks we haven't mentioned that make the model better, including:\n",
    "- decreasing learning rate schedule,\n",
    "\n",
    "- dropout between the LSTM layers.\n",
    "\n",
    "Study the code and modify it to improve th model even further."
   ]
  },
  {
   "cell_type": "code",
   "execution_count": null,
   "metadata": {
    "collapsed": true
   },
   "outputs": [],
   "source": []
  }
 ],
 "metadata": {
  "kernelspec": {
   "display_name": "Python 2",
   "language": "python",
   "name": "python2"
  },
  "language_info": {
   "codemirror_mode": {
    "name": "ipython",
    "version": 2
   },
   "file_extension": ".py",
   "mimetype": "text/x-python",
   "name": "python",
   "nbconvert_exporter": "python",
   "pygments_lexer": "ipython2",
   "version": "2.7.11"
  },
  "toc": {
   "toc_cell": false,
   "toc_number_sections": true,
   "toc_threshold": 6,
   "toc_window_display": false
  }
 },
 "nbformat": 4,
 "nbformat_minor": 0
}
